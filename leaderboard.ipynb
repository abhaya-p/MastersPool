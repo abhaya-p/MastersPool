{
 "cells": [
  {
   "cell_type": "code",
   "execution_count": null,
   "metadata": {},
   "outputs": [],
   "source": [
    "#import dependencies \n",
    "import requests\n",
    "import json\n",
    "import pandas as pd"
   ]
  },
  {
   "cell_type": "code",
   "execution_count": null,
   "metadata": {},
   "outputs": [],
   "source": [
    "#connect to the API (rapid api)\n",
    "url = \"https://live-golf-data.p.rapidapi.com/leaderboard\"\n",
    "\n",
    "querystring = {\"tournId\":\"014\",\"year\":\"2022\"}\n",
    "headers = {\n",
    "\t\"X-RapidAPI-Host\": \"live-golf-data.p.rapidapi.com\",\n",
    "\t\"X-RapidAPI-Key\": \"xxx\"\n",
    "}\n",
    "\n",
    "response = requests.get(url, headers=headers, params=querystring).json()\n",
    "#find the main dictionary key, in this case it's leaderboardrows\n",
    "response['leaderboardRows']"
   ]
  },
  {
   "cell_type": "code",
   "execution_count": null,
   "metadata": {},
   "outputs": [],
   "source": [
    "#pull data on another dictionary key to find the information on the specific round\n",
    "response['leaderboardRows'][0]['rounds'][0]"
   ]
  },
  {
   "cell_type": "code",
   "execution_count": null,
   "metadata": {},
   "outputs": [],
   "source": [
    "cut_Score = int(response['cutLines'][0]['cutScore'])"
   ]
  },
  {
   "cell_type": "code",
   "execution_count": null,
   "metadata": {},
   "outputs": [],
   "source": [
    "current_round = response['roundId']['$numberInt']"
   ]
  },
  {
   "cell_type": "code",
   "execution_count": null,
   "metadata": {},
   "outputs": [],
   "source": [
    "df = pd.DataFrame(columns=[\"position\",\"full_name\",\"total\", \"current_round\",\"currentRoundScore\",\"cut_score\",\"player_id\",\"status\",\"strokes\",\"roundId\",\"round_score\"])"
   ]
  },
  {
   "cell_type": "code",
   "execution_count": null,
   "metadata": {},
   "outputs": [],
   "source": [
    "for data in response['leaderboardRows']:\n",
    "    first_name = data['firstName']\n",
    "    last_name = data['lastName']\n",
    "    position = data['position']\n",
    "    player_id = float(data['playerId'])\n",
    "    total = data['total']\n",
    "    currentroundscore = data['currentRoundScore']\n",
    "    status = data['status']\n",
    "    full_name = first_name +' '+ last_name\n",
    "    #comment out below before 1st round completes\n",
    "    for rounds in data['rounds']:\n",
    "        round_Id = rounds['roundId']['$numberInt']\n",
    "        round_score = rounds['scoreToPar']\n",
    "        strokes = rounds['strokes']['$numberInt']\n",
    "        \n",
    "        df= df.append({'position':position, 'full_name':full_name,'player_id':player_id, 'total':total, 'currentRoundScore':currentroundscore, 'cut_score':cut_Score, 'current_round':current_round, 'status':status,'roundId':round_Id, 'round_score':round_score, 'strokes':strokes}, ignore_index=True)\n",
    "df['total']=df['total'].replace('E',0)\n",
    "df['round_score']= df['round_score'].replace('E',0)\n",
    "#df['round_score']= pd.to_numeric(df['round_score'])\n",
    "\n",
    "\n"
   ]
  },
  {
   "cell_type": "code",
   "execution_count": null,
   "metadata": {},
   "outputs": [],
   "source": [
    "df['round_score']= pd.to_numeric(df['round_score'])\n",
    "df['round_score']"
   ]
  },
  {
   "cell_type": "code",
   "execution_count": null,
   "metadata": {},
   "outputs": [],
   "source": [
    "df['g']=df.groupby(['full_name','player_id']).cumcount().add(1)\n",
    "df3=(pd.pivot_table(df,index=['full_name','player_id'],\n",
    "                    values='round_score',\n",
    "                    columns=['roundId'],\n",
    "                    aggfunc='max'\n",
    "                ))\n",
    "df3"
   ]
  },
  {
   "cell_type": "code",
   "execution_count": null,
   "metadata": {},
   "outputs": [],
   "source": [
    "df.to_csv('leaderboard.csv', encoding='utf-8', index=False)"
   ]
  }
 ],
 "metadata": {
  "kernelspec": {
   "display_name": "Python 3",
   "language": "python",
   "name": "python3"
  },
  "language_info": {
   "codemirror_mode": {
    "name": "ipython",
    "version": 3
   },
   "file_extension": ".py",
   "mimetype": "text/x-python",
   "name": "python",
   "nbconvert_exporter": "python",
   "pygments_lexer": "ipython3",
   "version": "3.7.6"
  }
 },
 "nbformat": 4,
 "nbformat_minor": 4
}
